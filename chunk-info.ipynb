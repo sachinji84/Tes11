{
 "cells": [
  {
   "cell_type": "code",
   "execution_count": 6,
   "metadata": {},
   "outputs": [
    {
     "name": "stdout",
     "output_type": "stream",
     "text": [
      "{'error': 'Chroma does not yet support get_by_ids.'}\n"
     ]
    }
   ],
   "source": [
    "import os\n",
    "from langchain.vectorstores import Chroma\n",
    "\n",
    "# Path to your ChromaDB\n",
    "CHROMA_DB_PATH = \"chromadb\"\n",
    "\n",
    "# Initialize ChromaDB\n",
    "vectordb = Chroma(\n",
    "    persist_directory=CHROMA_DB_PATH\n",
    ")\n",
    "\n",
    "# Retrieve metadata or chunks if possible\n",
    "try:\n",
    "    # Example: Fetch metadata or use a query to retrieve stored data\n",
    "    # Adjust this according to the available methods\n",
    "    chunk_ids = vectordb.get_by_ids(1)\n",
    "    \n",
    "    chunks_info = []\n",
    "    \n",
    "    for chunk_id in chunk_ids:\n",
    "        # Retrieve document by ID\n",
    "        chunk = vectordb.get_document(chunk_id)  # Replace with the correct method if available\n",
    "        chunks_info.append({\n",
    "            \"id\": chunk_id,\n",
    "            \"content\": chunk.page_content\n",
    "        })\n",
    "\n",
    "    # Display the information\n",
    "    print({\"number_of_chunks\": len(chunks_info), \"chunks\": chunks_info})\n",
    "except Exception as e:\n",
    "    print({\"error\": str(e)})\n"
   ]
  },
  {
   "cell_type": "code",
   "execution_count": null,
   "metadata": {},
   "outputs": [],
   "source": []
  }
 ],
 "metadata": {
  "kernelspec": {
   "display_name": "Python 3",
   "language": "python",
   "name": "python3"
  },
  "language_info": {
   "codemirror_mode": {
    "name": "ipython",
    "version": 3
   },
   "file_extension": ".py",
   "mimetype": "text/x-python",
   "name": "python",
   "nbconvert_exporter": "python",
   "pygments_lexer": "ipython3",
   "version": "3.10.0"
  }
 },
 "nbformat": 4,
 "nbformat_minor": 2
}
