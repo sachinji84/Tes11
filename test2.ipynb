{
 "cells": [
  {
   "cell_type": "code",
   "execution_count": 2,
   "metadata": {},
   "outputs": [],
   "source": [
    "# Import necessary libraries\n",
    "import os\n",
    "from dotenv import load_dotenv\n",
    "from langchain_community.document_loaders import PyPDFLoader\n",
    "from langchain_openai import ChatOpenAI\n",
    "from langchain.prompts import PromptTemplate\n",
    "# from langchain.runnables import RunnableSequence\n",
    "from langchain.chains import LLMChain"
   ]
  },
  {
   "cell_type": "code",
   "execution_count": 3,
   "metadata": {},
   "outputs": [],
   "source": [
    "# Load environment variables\n",
    "load_dotenv()\n",
    "OPENAI_API_KEY = os.getenv(\"OPENAI_API_KEY_COR\")\n",
    "# Set environment variables for LangChain tracing and project management\n",
    "os.environ[\"LANGCHAIN_API_KEY\"] = os.getenv(\"LANGCHAIN_API_KEY\")\n",
    "os.environ[\"LANGCHAIN_TRACING_V2\"] = \"true\"  # Enables tracing if supported by LangChain version\n",
    "os.environ[\"LANGCHAIN_PROJECT\"] = os.getenv(\"LANGCHAIN_PROJECT\")"
   ]
  },
  {
   "cell_type": "code",
   "execution_count": 4,
   "metadata": {},
   "outputs": [],
   "source": [
    "# Initialize the OpenAI client with LangChain\n",
    "llm_model = ChatOpenAI(api_key=OPENAI_API_KEY, model_name=\"gpt-4o\")"
   ]
  },
  {
   "cell_type": "code",
   "execution_count": 5,
   "metadata": {},
   "outputs": [],
   "source": [
    "# Simulate in-memory storage for documents\n",
    "documents = {}"
   ]
  },
  {
   "cell_type": "code",
   "execution_count": 6,
   "metadata": {},
   "outputs": [],
   "source": [
    "pdf_file_path = \"uploads/Product_Information.pdf\"\n",
    "file_path = pdf_file_path"
   ]
  },
  {
   "cell_type": "code",
   "execution_count": 7,
   "metadata": {},
   "outputs": [
    {
     "data": {
      "text/plain": [
       "[Document(metadata={'source': 'uploads/Product_Information.pdf', 'page': 0}, page_content=\"Product Information: Nike Air Max 270  \\nProduct Name:  Nike Air Max 270  \\nDescription:  The Nike Air Max 270 features Nike's largest -ever Air Max unit in the heel, providing unparalleled cushioning and \\nsupport. This model is designed with a breathable mesh upper for enhanced comfort and a modern aesthetic suitable for various  \\noccasions.  \\nKey Features:  \\n• Air Max Unit for maximum cushioning  \\n• Lightweight and breathable mesh upper  \\n• Modern design  \\n• Durable rubber outsole  \\nAvailable Sizes:  \\n• Men: 6 - 14 (US)  \\n• Women: 5 - 12 (US)  \\nColor Options:  \\n• Black/White  \\n• Red/White  \\n• Blue/White  \\n• Grey/Black  \\nPrice:  \\n• Men: $150  \\n• Women: $140  \\nAvailability:  \\n• In Stock  \\n• Available online at Nike.com  \\nProduct Information: Nike React Infinity Run Flyknit  \\nProduct Name:  Nike React Infinity Run Flyknit  \\nDescription:  The Nike React Infinity Run Flyknit is engineered to provide a smooth, stable ride with its innovative React foam \\nmidsole. The Flyknit upper ensures a secure and breathable fit, making it ideal for long -distance running and daily workouts.  \\nKey Features:  \\n• React foam midsole for plush cushioning  \\n• Flyknit upper for a flexible and breathable fit  \\n• Enhanced stability and support  \\n• Rubber outsole for traction  \\nAvailable Sizes:  \\n• Men: 6 - 15 (US)  \\n• Women: 5 - 13 (US)  \\nColor Options:  \"),\n",
       " Document(metadata={'source': 'uploads/Product_Information.pdf', 'page': 1}, page_content=\"• Black/Volt  \\n• White/Pink  \\n• Navy/Orange  \\n• Grey/Red  \\nPrice:  \\n• Men: $160  \\n• Women: $150  \\nAvailability:  \\n• In Stock  \\n• Available at Nike stores and online at Nike.com  \\n \\nProduct Information: Nike Air Force 1 '07  \\nProduct Name:  Nike Air Force 1 '07  \\nDescription:  The Nike Air Force 1 '07 is a classic sneaker with timeless style. Known for its durable leather upper and iconic Air \\ncushioning, it offers a comfortable fit and versatile look suitable for everyday wear.  \\nKey Features:  \\n• Full-grain leather upper for durability  \\n• Air cushioning in the heel for comfort  \\n• Classic design with clean lines  \\n• Rubber outsole for traction  \\nAvailable Sizes:  \\n• Men: 6 - 15 (US)  \\n• Women: 5 - 12 (US)  \\nColor Options:  \\n• White/White  \\n• Black/White  \\n• Grey/Black  \\n• Red/White  \\nPrice:  \\n• Men: $130  \\n• Women: $120  \\nAvailability:  \\n• In Stock  \\n• Available at major retailers and Nike stores  \\n• Online at Nike.com  \\n \")]"
      ]
     },
     "execution_count": 7,
     "metadata": {},
     "output_type": "execute_result"
    }
   ],
   "source": [
    "loader = PyPDFLoader(file_path)\n",
    "docs = loader.load()\n",
    "docs"
   ]
  },
  {
   "cell_type": "code",
   "execution_count": 8,
   "metadata": {},
   "outputs": [
    {
     "name": "stdout",
     "output_type": "stream",
     "text": [
      "page_content='Product Information: Nike Air Max 270  \n",
      "Product Name:  Nike Air Max 270  \n",
      "Description:  The Nike Air Max 270 features Nike's largest -ever Air Max unit in the heel, providing unparalleled cushioning and \n",
      "support. This model is designed with a breathable mesh upper for enhanced comfort and a modern aesthetic suitable for various  \n",
      "occasions.  \n",
      "Key Features:  \n",
      "• Air Max Unit for maximum cushioning  \n",
      "• Lightweight and breathable mesh upper  \n",
      "• Modern design  \n",
      "• Durable rubber outsole  \n",
      "Available Sizes:  \n",
      "• Men: 6 - 14 (US)  \n",
      "• Women: 5 - 12 (US)  \n",
      "Color Options:  \n",
      "• Black/White  \n",
      "• Red/White  \n",
      "• Blue/White  \n",
      "• Grey/Black  \n",
      "Price:  \n",
      "• Men: $150  \n",
      "• Women: $140  \n",
      "Availability:  \n",
      "• In Stock  \n",
      "• Available online at Nike.com  \n",
      "Product Information: Nike React Infinity Run Flyknit  \n",
      "Product Name:  Nike React Infinity Run Flyknit  \n",
      "Description:  The Nike React Infinity Run Flyknit is engineered to provide a smooth, stable ride with its innovative React foam \n",
      "midsole. The Flyknit upper ensures a secure and breathable fit, making it ideal for long -distance running and daily workouts.  \n",
      "Key Features:  \n",
      "• React foam midsole for plush cushioning  \n",
      "• Flyknit upper for a flexible and breathable fit  \n",
      "• Enhanced stability and support  \n",
      "• Rubber outsole for traction  \n",
      "Available Sizes:  \n",
      "• Men: 6 - 15 (US)  \n",
      "• Women: 5 - 13 (US)  \n",
      "Color Options:  ' metadata={'source': 'uploads/Product_Information.pdf', 'page': 0}\n"
     ]
    }
   ],
   "source": [
    "print(docs[0])"
   ]
  },
  {
   "cell_type": "code",
   "execution_count": 94,
   "metadata": {},
   "outputs": [],
   "source": [
    "content = \"\\n\".join([doc.page_content for doc in docs])"
   ]
  },
  {
   "cell_type": "code",
   "execution_count": 95,
   "metadata": {},
   "outputs": [
    {
     "name": "stdout",
     "output_type": "stream",
     "text": [
      "Product Information: Nike Air Max 270  \n",
      "Product Name:  Nike Air Max 270  \n",
      "Description:  The Nike Air Max 270 features Nike's largest -ever Air Max unit in the heel, providing unparalleled cushioning and \n",
      "support. This model is designed with a breathable mesh upper for enhanced comfort and a modern aesthetic suitable for various  \n",
      "occasions.  \n",
      "Key Features:  \n",
      "• Air Max Unit for maximum cushioning  \n",
      "• Lightweight and breathable mesh upper  \n",
      "• Modern design  \n",
      "• Durable rubber outsole  \n",
      "Available Sizes:  \n",
      "• Men: 6 - 14 (US)  \n",
      "• Women: 5 - 12 (US)  \n",
      "Color Options:  \n",
      "• Black/White  \n",
      "• Red/White  \n",
      "• Blue/White  \n",
      "• Grey/Black  \n",
      "Price:  \n",
      "• Men: $150  \n",
      "• Women: $140  \n",
      "Availability:  \n",
      "• In Stock  \n",
      "• Available online at Nike.com  \n",
      "Product Information: Nike React Infinity Run Flyknit  \n",
      "Product Name:  Nike React Infinity Run Flyknit  \n",
      "Description:  The Nike React Infinity Run Flyknit is engineered to provide a smooth, stable ride with its innovative React foam \n",
      "midsole. The Flyknit upper ensures a secure and breathable fit, making it ideal for long -distance running and daily workouts.  \n",
      "Key Features:  \n",
      "• React foam midsole for plush cushioning  \n",
      "• Flyknit upper for a flexible and breathable fit  \n",
      "• Enhanced stability and support  \n",
      "• Rubber outsole for traction  \n",
      "Available Sizes:  \n",
      "• Men: 6 - 15 (US)  \n",
      "• Women: 5 - 13 (US)  \n",
      "Color Options:  \n",
      "• Black/Volt  \n",
      "• White/Pink  \n",
      "• Navy/Orange  \n",
      "• Grey/Red  \n",
      "Price:  \n",
      "• Men: $160  \n",
      "• Women: $150  \n",
      "Availability:  \n",
      "• In Stock  \n",
      "• Available at Nike stores and online at Nike.com  \n",
      " \n",
      "Product Information: Nike Air Force 1 '07  \n",
      "Product Name:  Nike Air Force 1 '07  \n",
      "Description:  The Nike Air Force 1 '07 is a classic sneaker with timeless style. Known for its durable leather upper and iconic Air \n",
      "cushioning, it offers a comfortable fit and versatile look suitable for everyday wear.  \n",
      "Key Features:  \n",
      "• Full-grain leather upper for durability  \n",
      "• Air cushioning in the heel for comfort  \n",
      "• Classic design with clean lines  \n",
      "• Rubber outsole for traction  \n",
      "Available Sizes:  \n",
      "• Men: 6 - 15 (US)  \n",
      "• Women: 5 - 12 (US)  \n",
      "Color Options:  \n",
      "• White/White  \n",
      "• Black/White  \n",
      "• Grey/Black  \n",
      "• Red/White  \n",
      "Price:  \n",
      "• Men: $130  \n",
      "• Women: $120  \n",
      "Availability:  \n",
      "• In Stock  \n",
      "• Available at major retailers and Nike stores  \n",
      "• Online at Nike.com  \n",
      " \n"
     ]
    }
   ],
   "source": [
    "print(content)"
   ]
  },
  {
   "cell_type": "code",
   "execution_count": 96,
   "metadata": {},
   "outputs": [
    {
     "name": "stdout",
     "output_type": "stream",
     "text": [
      "PDF document uploaded and processed successfully! Doc ID: 1\n"
     ]
    }
   ],
   "source": [
    "doc_id = len(documents) + 1\n",
    "documents[doc_id] = content\n",
    "print(f\"PDF document uploaded and processed successfully! Doc ID: {doc_id}\")"
   ]
  },
  {
   "cell_type": "code",
   "execution_count": 97,
   "metadata": {},
   "outputs": [
    {
     "data": {
      "text/plain": [
       "{1: \"Product Information: Nike Air Max 270  \\nProduct Name:  Nike Air Max 270  \\nDescription:  The Nike Air Max 270 features Nike's largest -ever Air Max unit in the heel, providing unparalleled cushioning and \\nsupport. This model is designed with a breathable mesh upper for enhanced comfort and a modern aesthetic suitable for various  \\noccasions.  \\nKey Features:  \\n• Air Max Unit for maximum cushioning  \\n• Lightweight and breathable mesh upper  \\n• Modern design  \\n• Durable rubber outsole  \\nAvailable Sizes:  \\n• Men: 6 - 14 (US)  \\n• Women: 5 - 12 (US)  \\nColor Options:  \\n• Black/White  \\n• Red/White  \\n• Blue/White  \\n• Grey/Black  \\nPrice:  \\n• Men: $150  \\n• Women: $140  \\nAvailability:  \\n• In Stock  \\n• Available online at Nike.com  \\nProduct Information: Nike React Infinity Run Flyknit  \\nProduct Name:  Nike React Infinity Run Flyknit  \\nDescription:  The Nike React Infinity Run Flyknit is engineered to provide a smooth, stable ride with its innovative React foam \\nmidsole. The Flyknit upper ensures a secure and breathable fit, making it ideal for long -distance running and daily workouts.  \\nKey Features:  \\n• React foam midsole for plush cushioning  \\n• Flyknit upper for a flexible and breathable fit  \\n• Enhanced stability and support  \\n• Rubber outsole for traction  \\nAvailable Sizes:  \\n• Men: 6 - 15 (US)  \\n• Women: 5 - 13 (US)  \\nColor Options:  \\n• Black/Volt  \\n• White/Pink  \\n• Navy/Orange  \\n• Grey/Red  \\nPrice:  \\n• Men: $160  \\n• Women: $150  \\nAvailability:  \\n• In Stock  \\n• Available at Nike stores and online at Nike.com  \\n \\nProduct Information: Nike Air Force 1 '07  \\nProduct Name:  Nike Air Force 1 '07  \\nDescription:  The Nike Air Force 1 '07 is a classic sneaker with timeless style. Known for its durable leather upper and iconic Air \\ncushioning, it offers a comfortable fit and versatile look suitable for everyday wear.  \\nKey Features:  \\n• Full-grain leather upper for durability  \\n• Air cushioning in the heel for comfort  \\n• Classic design with clean lines  \\n• Rubber outsole for traction  \\nAvailable Sizes:  \\n• Men: 6 - 15 (US)  \\n• Women: 5 - 12 (US)  \\nColor Options:  \\n• White/White  \\n• Black/White  \\n• Grey/Black  \\n• Red/White  \\nPrice:  \\n• Men: $130  \\n• Women: $120  \\nAvailability:  \\n• In Stock  \\n• Available at major retailers and Nike stores  \\n• Online at Nike.com  \\n \"}"
      ]
     },
     "execution_count": 97,
     "metadata": {},
     "output_type": "execute_result"
    }
   ],
   "source": [
    "documents"
   ]
  },
  {
   "cell_type": "code",
   "execution_count": 98,
   "metadata": {},
   "outputs": [],
   "source": [
    "if doc_id:\n",
    "    # Test interaction with the document\n",
    "    user_query = \"what is Price of Women Nike Air Max 270 shoes?\"\n",
    "    if doc_id not in documents:\n",
    "        print(\"Document not found\")"
   ]
  },
  {
   "cell_type": "code",
   "execution_count": 99,
   "metadata": {},
   "outputs": [],
   "source": [
    "document_content = documents[doc_id]"
   ]
  },
  {
   "cell_type": "code",
   "execution_count": 100,
   "metadata": {},
   "outputs": [
    {
     "data": {
      "text/plain": [
       "\"Product Information: Nike Air Max 270  \\nProduct Name:  Nike Air Max 270  \\nDescription:  The Nike Air Max 270 features Nike's largest -ever Air Max unit in the heel, providing unparalleled cushioning and \\nsupport. This model is designed with a breathable mesh upper for enhanced comfort and a modern aesthetic suitable for various  \\noccasions.  \\nKey Features:  \\n• Air Max Unit for maximum cushioning  \\n• Lightweight and breathable mesh upper  \\n• Modern design  \\n• Durable rubber outsole  \\nAvailable Sizes:  \\n• Men: 6 - 14 (US)  \\n• Women: 5 - 12 (US)  \\nColor Options:  \\n• Black/White  \\n• Red/White  \\n• Blue/White  \\n• Grey/Black  \\nPrice:  \\n• Men: $150  \\n• Women: $140  \\nAvailability:  \\n• In Stock  \\n• Available online at Nike.com  \\nProduct Information: Nike React Infinity Run Flyknit  \\nProduct Name:  Nike React Infinity Run Flyknit  \\nDescription:  The Nike React Infinity Run Flyknit is engineered to provide a smooth, stable ride with its innovative React foam \\nmidsole. The Flyknit upper ensures a secure and breathable fit, making it ideal for long -distance running and daily workouts.  \\nKey Features:  \\n• React foam midsole for plush cushioning  \\n• Flyknit upper for a flexible and breathable fit  \\n• Enhanced stability and support  \\n• Rubber outsole for traction  \\nAvailable Sizes:  \\n• Men: 6 - 15 (US)  \\n• Women: 5 - 13 (US)  \\nColor Options:  \\n• Black/Volt  \\n• White/Pink  \\n• Navy/Orange  \\n• Grey/Red  \\nPrice:  \\n• Men: $160  \\n• Women: $150  \\nAvailability:  \\n• In Stock  \\n• Available at Nike stores and online at Nike.com  \\n \\nProduct Information: Nike Air Force 1 '07  \\nProduct Name:  Nike Air Force 1 '07  \\nDescription:  The Nike Air Force 1 '07 is a classic sneaker with timeless style. Known for its durable leather upper and iconic Air \\ncushioning, it offers a comfortable fit and versatile look suitable for everyday wear.  \\nKey Features:  \\n• Full-grain leather upper for durability  \\n• Air cushioning in the heel for comfort  \\n• Classic design with clean lines  \\n• Rubber outsole for traction  \\nAvailable Sizes:  \\n• Men: 6 - 15 (US)  \\n• Women: 5 - 12 (US)  \\nColor Options:  \\n• White/White  \\n• Black/White  \\n• Grey/Black  \\n• Red/White  \\nPrice:  \\n• Men: $130  \\n• Women: $120  \\nAvailability:  \\n• In Stock  \\n• Available at major retailers and Nike stores  \\n• Online at Nike.com  \\n \""
      ]
     },
     "execution_count": 100,
     "metadata": {},
     "output_type": "execute_result"
    }
   ],
   "source": [
    "document_content"
   ]
  },
  {
   "cell_type": "code",
   "execution_count": 101,
   "metadata": {},
   "outputs": [],
   "source": [
    "# Limit the document content to a maximum of 4000 tokens\n",
    "max_token_limit = 4000\n",
    "document_content = document_content[:max_token_limit]  # Adjust as needed"
   ]
  },
  {
   "cell_type": "code",
   "execution_count": 102,
   "metadata": {},
   "outputs": [],
   "source": [
    "# Define a prompt template\n",
    "template = (\n",
    "    \"You are a helpful assistant.\\n\"\n",
    "    \"Document content (truncated):\\n{document_content}\\n\"\n",
    "    \"User query: {user_query}\"\n",
    ")"
   ]
  },
  {
   "cell_type": "code",
   "execution_count": 103,
   "metadata": {},
   "outputs": [
    {
     "data": {
      "text/plain": [
       "'You are a helpful assistant.\\nDocument content (truncated):\\n{document_content}\\nUser query: {user_query}'"
      ]
     },
     "execution_count": 103,
     "metadata": {},
     "output_type": "execute_result"
    }
   ],
   "source": [
    "template"
   ]
  },
  {
   "cell_type": "code",
   "execution_count": 104,
   "metadata": {},
   "outputs": [],
   "source": [
    "# Create the prompt using LangChain's PromptTemplate\n",
    "prompt_template = PromptTemplate(\n",
    "    template=template,\n",
    "    input_variables=[\"document_content\", \"user_query\"]\n",
    ")"
   ]
  },
  {
   "cell_type": "code",
   "execution_count": 105,
   "metadata": {},
   "outputs": [
    {
     "data": {
      "text/plain": [
       "PromptTemplate(input_variables=['document_content', 'user_query'], template='You are a helpful assistant.\\nDocument content (truncated):\\n{document_content}\\nUser query: {user_query}')"
      ]
     },
     "execution_count": 105,
     "metadata": {},
     "output_type": "execute_result"
    }
   ],
   "source": [
    "prompt_template"
   ]
  },
  {
   "cell_type": "code",
   "execution_count": 106,
   "metadata": {},
   "outputs": [],
   "source": [
    "# Create an LLMChain to use the prompt template and LLM\n",
    "# chain = LLMChain(\n",
    "#     llm=llm_model,\n",
    "#     prompt=prompt_template\n",
    "# )\n",
    "\n",
    "chain  = prompt_template|llm_model"
   ]
  },
  {
   "cell_type": "code",
   "execution_count": 107,
   "metadata": {},
   "outputs": [],
   "source": [
    "# Generate a response\n",
    "response = chain.invoke({\n",
    "    \"document_content\": document_content,\n",
    "    \"user_query\": user_query\n",
    "})"
   ]
  },
  {
   "cell_type": "code",
   "execution_count": 108,
   "metadata": {},
   "outputs": [
    {
     "data": {
      "text/plain": [
       "langchain_core.messages.ai.AIMessage"
      ]
     },
     "execution_count": 108,
     "metadata": {},
     "output_type": "execute_result"
    }
   ],
   "source": [
    "type(response)"
   ]
  },
  {
   "cell_type": "code",
   "execution_count": 109,
   "metadata": {},
   "outputs": [
    {
     "data": {
      "text/plain": [
       "{'content': 'The price of the Nike Air Max 270 shoes for women is $140.',\n",
       " 'additional_kwargs': {'refusal': None},\n",
       " 'response_metadata': {'token_usage': {'completion_tokens': 16,\n",
       "   'prompt_tokens': 612,\n",
       "   'total_tokens': 628},\n",
       "  'model_name': 'gpt-4o-2024-05-13',\n",
       "  'system_fingerprint': 'fp_157b3831f5',\n",
       "  'finish_reason': 'stop',\n",
       "  'logprobs': None},\n",
       " 'type': 'ai',\n",
       " 'name': None,\n",
       " 'id': 'run-67f1edc2-3e53-46f1-b8ff-3e2dca826063-0',\n",
       " 'example': False,\n",
       " 'tool_calls': [],\n",
       " 'invalid_tool_calls': [],\n",
       " 'usage_metadata': {'input_tokens': 612,\n",
       "  'output_tokens': 16,\n",
       "  'total_tokens': 628}}"
      ]
     },
     "execution_count": 109,
     "metadata": {},
     "output_type": "execute_result"
    }
   ],
   "source": [
    "response.__dict__"
   ]
  },
  {
   "cell_type": "code",
   "execution_count": 110,
   "metadata": {},
   "outputs": [
    {
     "name": "stdout",
     "output_type": "stream",
     "text": [
      "Response is: The price of the Nike Air Max 270 shoes for women is $140.\n"
     ]
    }
   ],
   "source": [
    "print(\"Response is:\", response.content)"
   ]
  },
  {
   "cell_type": "markdown",
   "metadata": {},
   "source": [
    "## COde  in Fucntion Format"
   ]
  },
  {
   "cell_type": "code",
   "execution_count": 84,
   "metadata": {},
   "outputs": [],
   "source": [
    "# Function to handle PDF upload and processing\n",
    "def handle_upload(file_path):\n",
    "    \"\"\"Handle PDF document upload\"\"\"\n",
    "    # Extract text from the PDF document using PyPDFLoader\n",
    "    try:\n",
    "        loader = PyPDFLoader(file_path)\n",
    "        docs = loader.load()\n",
    "        content = \"\\n\".join([doc.page_content for doc in docs])\n",
    "        doc_id = len(documents) + 1\n",
    "        documents[doc_id] = content\n",
    "        print(f\"PDF document uploaded and processed successfully! Doc ID: {doc_id}\")\n",
    "        return doc_id, content\n",
    "    except Exception as e:\n",
    "        print(f\"Error processing PDF: {str(e)}\")\n",
    "        return None, None"
   ]
  },
  {
   "cell_type": "code",
   "execution_count": 85,
   "metadata": {},
   "outputs": [],
   "source": [
    "# Function to interact with the document\n",
    "def interact_with_document(doc_id, user_query):\n",
    "    if doc_id not in documents:\n",
    "        print(\"Document not found\")\n",
    "        return None\n",
    "\n",
    "    document_content = documents[doc_id]\n",
    "\n",
    "    # Limit the document content to a maximum of 4000 tokens\n",
    "    max_token_limit = 4000\n",
    "    document_content = document_content[:max_token_limit]  # Adjust as needed\n",
    "\n",
    "    # Define a prompt template\n",
    "    template = (\n",
    "        \"You are a helpful assistant.\\n\"\n",
    "        \"Document content (truncated):\\n{document_content}\\n\"\n",
    "        \"User query: {user_query}\"\n",
    "    )\n",
    "\n",
    "    # Create the prompt using LangChain's PromptTemplate\n",
    "    prompt_template = PromptTemplate(\n",
    "        template=template,\n",
    "        input_variables=[\"document_content\", \"user_query\"]\n",
    "    )\n",
    "\n",
    "    # Create an LLMChain to use the prompt template and LLM\n",
    "    # chain = LLMChain(\n",
    "    #     llm=llm_model,\n",
    "    #     prompt=prompt_template\n",
    "    # )\n",
    "    \n",
    "    chain  = prompt_template|llm_model\n",
    "\n",
    "    try:\n",
    "        # Generate a response\n",
    "        # response = chain.run(\n",
    "        #     {\"document_content\": document_content,\n",
    "        #      \"user_query\": user_query\n",
    "        #      })\n",
    "        # return response\n",
    "        \n",
    "        response = chain.invoke(\n",
    "            {\"document_content\": document_content,\n",
    "             \"user_query\": user_query\n",
    "             })\n",
    "\n",
    "        # return response['text']\n",
    "        return response.content\n",
    "\n",
    "    except Exception as e:\n",
    "        print(f\"Error interacting with document: {str(e)}\")\n",
    "        return None"
   ]
  },
  {
   "cell_type": "code",
   "execution_count": 86,
   "metadata": {},
   "outputs": [
    {
     "name": "stdout",
     "output_type": "stream",
     "text": [
      "PDF document uploaded and processed successfully! Doc ID: 2\n",
      "The price of the Nike Air Max 270 shoes for women is $140.\n"
     ]
    }
   ],
   "source": [
    "# Test the functions\n",
    "# Provide the path to the PDF file you want to test\n",
    "pdf_file_path = pdf_file_path = \"uploads/Product_Information.pdf\"\n",
    "doc_id, content = handle_upload(pdf_file_path)\n",
    "\n",
    "if doc_id:\n",
    "    # Test interaction with the document\n",
    "    user_query = \"what is Price of Women Nike Air Max 270 shoes?\"\n",
    "    model_response = interact_with_document(doc_id, user_query)\n",
    "    print(model_response)"
   ]
  },
  {
   "cell_type": "code",
   "execution_count": null,
   "metadata": {},
   "outputs": [],
   "source": []
  }
 ],
 "metadata": {
  "kernelspec": {
   "display_name": "Python 3",
   "language": "python",
   "name": "python3"
  },
  "language_info": {
   "codemirror_mode": {
    "name": "ipython",
    "version": 3
   },
   "file_extension": ".py",
   "mimetype": "text/x-python",
   "name": "python",
   "nbconvert_exporter": "python",
   "pygments_lexer": "ipython3",
   "version": "3.10.0"
  }
 },
 "nbformat": 4,
 "nbformat_minor": 2
}
